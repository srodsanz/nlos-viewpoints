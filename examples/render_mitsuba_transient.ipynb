{
 "cells": [
  {
   "cell_type": "code",
   "execution_count": 1,
   "metadata": {},
   "outputs": [],
   "source": [
    "#Credits to staircase-scene: https://mitsuba.readthedocs.io/en/latest/src/gallery.html\n",
    "\n",
    "import sys\n",
    "import os \n",
    "\n",
    "mi_path_rel = r\"../../mitsuba3/build/python\"\n",
    "mi_path = os.path.abspath(mi_path_rel)\n",
    "\n",
    "sys.path.insert(0, mi_path)\n",
    "\n",
    "import mitsuba as mi\n",
    "mi.set_variant(\"llvm_ad_rgb\")\n",
    "\n",
    "import mitransient as mitr\n",
    "import drjit as dr\n"
   ]
  },
  {
   "cell_type": "code",
   "execution_count": 2,
   "metadata": {},
   "outputs": [],
   "source": [
    "path_scene = os.path.abspath(\"./staircase/transient_scene.xml\")\n",
    "\n",
    "assert os.path.exists(path_scene), f\"Path of XML {path_scene} does not exist\"\n",
    "\n",
    "scene = mi.load_file(path_scene)"
   ]
  },
  {
   "cell_type": "code",
   "execution_count": 3,
   "metadata": {},
   "outputs": [],
   "source": [
    "transient_integrator = scene.integrator()\n",
    "sensors = scene.sensors()\n",
    "\n",
    "transient_integrator.prepare_transient(scene, sensor=0)"
   ]
  },
  {
   "cell_type": "code",
   "execution_count": 4,
   "metadata": {},
   "outputs": [],
   "source": [
    "data_steady, data_transient = transient_integrator.render(scene)\n",
    "dr.eval(data_steady, data_transient)"
   ]
  }
 ],
 "metadata": {
  "kernelspec": {
   "display_name": "mitsuba-env",
   "language": "python",
   "name": "python3"
  },
  "language_info": {
   "codemirror_mode": {
    "name": "ipython",
    "version": 3
   },
   "file_extension": ".py",
   "mimetype": "text/x-python",
   "name": "python",
   "nbconvert_exporter": "python",
   "pygments_lexer": "ipython3",
   "version": "3.8.13"
  }
 },
 "nbformat": 4,
 "nbformat_minor": 2
}
