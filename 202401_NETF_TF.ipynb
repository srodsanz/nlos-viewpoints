{
 "cells": [
  {
   "cell_type": "code",
   "execution_count": 1,
   "metadata": {},
   "outputs": [],
   "source": [
    "import torch\n",
    "import tal\n",
    "import numpy as np\n",
    "\n",
    "from model.nerf import NLOSNeRF\n",
    "from model.scene import Scene\n",
    "from matplotlib import pyplot as plt"
   ]
  },
  {
   "cell_type": "code",
   "execution_count": 2,
   "metadata": {},
   "outputs": [],
   "source": [
    "sensor_x = 32\n",
    "sensor_y = 32\n",
    "scale = 1\n",
    "t_max = 256\n",
    "delta_m_meters = 0.05\n",
    "scene = Scene(sensor_x=sensor_x, sensor_y=sensor_y)"
   ]
  },
  {
   "cell_type": "code",
   "execution_count": 3,
   "metadata": {},
   "outputs": [
    {
     "ename": "FileNotFoundError",
     "evalue": "[Errno 2] No such file or directory: './data/models/T-single-oneshot-integrator-nrho-32-b16-finetuned.pth'",
     "output_type": "error",
     "traceback": [
      "\u001b[0;31m---------------------------------------------------------------------------\u001b[0m",
      "\u001b[0;31mFileNotFoundError\u001b[0m                         Traceback (most recent call last)",
      "Cell \u001b[0;32mIn[3], line 3\u001b[0m\n\u001b[1;32m      1\u001b[0m center \u001b[38;5;241m=\u001b[39m np\u001b[38;5;241m.\u001b[39marray([\u001b[38;5;241m0\u001b[39m, \u001b[38;5;241m0\u001b[39m, \u001b[38;5;241m0.5\u001b[39m])\n\u001b[1;32m      2\u001b[0m model \u001b[38;5;241m=\u001b[39m NLOSNeRF(positional_encoding\u001b[38;5;241m=\u001b[39m\u001b[38;5;28;01mTrue\u001b[39;00m, ignore_albedo\u001b[38;5;241m=\u001b[39m\u001b[38;5;28;01mTrue\u001b[39;00m)\u001b[38;5;241m.\u001b[39mto(device\u001b[38;5;241m=\u001b[39m\u001b[38;5;124m\"\u001b[39m\u001b[38;5;124mcuda:1\u001b[39m\u001b[38;5;124m\"\u001b[39m)\n\u001b[0;32m----> 3\u001b[0m dict_ \u001b[38;5;241m=\u001b[39m \u001b[43mtorch\u001b[49m\u001b[38;5;241;43m.\u001b[39;49m\u001b[43mload\u001b[49m\u001b[43m(\u001b[49m\u001b[38;5;124;43m\"\u001b[39;49m\u001b[38;5;124;43m./data/models/T-single-oneshot-integrator-nrho-32-b16-finetuned.pth\u001b[39;49m\u001b[38;5;124;43m\"\u001b[39;49m\u001b[43m)\u001b[49m\n\u001b[1;32m      4\u001b[0m model\u001b[38;5;241m.\u001b[39mload_state_dict(dict_[\u001b[38;5;124m\"\u001b[39m\u001b[38;5;124mmodel_state_dict\u001b[39m\u001b[38;5;124m\"\u001b[39m])\n\u001b[1;32m      5\u001b[0m dx \u001b[38;5;241m=\u001b[39m \u001b[38;5;241m1\u001b[39m \u001b[38;5;241m/\u001b[39m np\u001b[38;5;241m.\u001b[39msqrt(\u001b[38;5;241m2\u001b[39m)\n",
      "File \u001b[0;32m~/.venvs/nerf-nlos/lib/python3.8/site-packages/torch/serialization.py:791\u001b[0m, in \u001b[0;36mload\u001b[0;34m(f, map_location, pickle_module, weights_only, **pickle_load_args)\u001b[0m\n\u001b[1;32m    788\u001b[0m \u001b[38;5;28;01mif\u001b[39;00m \u001b[38;5;124m'\u001b[39m\u001b[38;5;124mencoding\u001b[39m\u001b[38;5;124m'\u001b[39m \u001b[38;5;129;01mnot\u001b[39;00m \u001b[38;5;129;01min\u001b[39;00m pickle_load_args\u001b[38;5;241m.\u001b[39mkeys():\n\u001b[1;32m    789\u001b[0m     pickle_load_args[\u001b[38;5;124m'\u001b[39m\u001b[38;5;124mencoding\u001b[39m\u001b[38;5;124m'\u001b[39m] \u001b[38;5;241m=\u001b[39m \u001b[38;5;124m'\u001b[39m\u001b[38;5;124mutf-8\u001b[39m\u001b[38;5;124m'\u001b[39m\n\u001b[0;32m--> 791\u001b[0m \u001b[38;5;28;01mwith\u001b[39;00m \u001b[43m_open_file_like\u001b[49m\u001b[43m(\u001b[49m\u001b[43mf\u001b[49m\u001b[43m,\u001b[49m\u001b[43m \u001b[49m\u001b[38;5;124;43m'\u001b[39;49m\u001b[38;5;124;43mrb\u001b[39;49m\u001b[38;5;124;43m'\u001b[39;49m\u001b[43m)\u001b[49m \u001b[38;5;28;01mas\u001b[39;00m opened_file:\n\u001b[1;32m    792\u001b[0m     \u001b[38;5;28;01mif\u001b[39;00m _is_zipfile(opened_file):\n\u001b[1;32m    793\u001b[0m         \u001b[38;5;66;03m# The zipfile reader is going to advance the current file position.\u001b[39;00m\n\u001b[1;32m    794\u001b[0m         \u001b[38;5;66;03m# If we want to actually tail call to torch.jit.load, we need to\u001b[39;00m\n\u001b[1;32m    795\u001b[0m         \u001b[38;5;66;03m# reset back to the original position.\u001b[39;00m\n\u001b[1;32m    796\u001b[0m         orig_position \u001b[38;5;241m=\u001b[39m opened_file\u001b[38;5;241m.\u001b[39mtell()\n",
      "File \u001b[0;32m~/.venvs/nerf-nlos/lib/python3.8/site-packages/torch/serialization.py:271\u001b[0m, in \u001b[0;36m_open_file_like\u001b[0;34m(name_or_buffer, mode)\u001b[0m\n\u001b[1;32m    269\u001b[0m \u001b[38;5;28;01mdef\u001b[39;00m \u001b[38;5;21m_open_file_like\u001b[39m(name_or_buffer, mode):\n\u001b[1;32m    270\u001b[0m     \u001b[38;5;28;01mif\u001b[39;00m _is_path(name_or_buffer):\n\u001b[0;32m--> 271\u001b[0m         \u001b[38;5;28;01mreturn\u001b[39;00m \u001b[43m_open_file\u001b[49m\u001b[43m(\u001b[49m\u001b[43mname_or_buffer\u001b[49m\u001b[43m,\u001b[49m\u001b[43m \u001b[49m\u001b[43mmode\u001b[49m\u001b[43m)\u001b[49m\n\u001b[1;32m    272\u001b[0m     \u001b[38;5;28;01melse\u001b[39;00m:\n\u001b[1;32m    273\u001b[0m         \u001b[38;5;28;01mif\u001b[39;00m \u001b[38;5;124m'\u001b[39m\u001b[38;5;124mw\u001b[39m\u001b[38;5;124m'\u001b[39m \u001b[38;5;129;01min\u001b[39;00m mode:\n",
      "File \u001b[0;32m~/.venvs/nerf-nlos/lib/python3.8/site-packages/torch/serialization.py:252\u001b[0m, in \u001b[0;36m_open_file.__init__\u001b[0;34m(self, name, mode)\u001b[0m\n\u001b[1;32m    251\u001b[0m \u001b[38;5;28;01mdef\u001b[39;00m \u001b[38;5;21m__init__\u001b[39m(\u001b[38;5;28mself\u001b[39m, name, mode):\n\u001b[0;32m--> 252\u001b[0m     \u001b[38;5;28msuper\u001b[39m()\u001b[38;5;241m.\u001b[39m\u001b[38;5;21m__init__\u001b[39m(\u001b[38;5;28;43mopen\u001b[39;49m\u001b[43m(\u001b[49m\u001b[43mname\u001b[49m\u001b[43m,\u001b[49m\u001b[43m \u001b[49m\u001b[43mmode\u001b[49m\u001b[43m)\u001b[49m)\n",
      "\u001b[0;31mFileNotFoundError\u001b[0m: [Errno 2] No such file or directory: './data/models/T-single-oneshot-integrator-nrho-32-b16-finetuned.pth'"
     ]
    }
   ],
   "source": [
    "center = np.array([0, 0, 0.5])\n",
    "model = NLOSNeRF(positional_encoding=True, ignore_albedo=True).to(device=\"cuda:1\")\n",
    "dict_ = torch.load(\"./data/models/T-single-oneshot-integrator-nrho-32-b16-finetuned.pth\")\n",
    "model.load_state_dict(dict_[\"model_state_dict\"])\n",
    "dx = 1 / np.sqrt(2)\n",
    "dy = 1 / np.sqrt(2)\n",
    "dz = 1 / np.sqrt(2)\n",
    "xv = torch.linspace(start=center[0]+(dx/2), end=center[0]-(dx/2), steps=64)\n",
    "yv = torch.linspace(start=center[1]+(dy/2), end=center[1]-(dy/2), steps=64)\n",
    "zv = 0.5*torch.ones((64, 64))\n",
    "X, Y = torch.meshgrid(xv, yv, indexing=\"ij\")\n",
    "stack_pts = torch.stack((X, Y, zv), axis=-1)\n",
    "stack_dirs = (torch.pi / 2) * torch.ones((64, 64, 2))\n",
    "stack_input = torch.cat((stack_pts, stack_dirs), dim=-1)\n",
    "with torch.no_grad():\n",
    "    result = model(model.fourier_encoding(stack_input).to(device=\"cuda:1\"))"
   ]
  },
  {
   "cell_type": "code",
   "execution_count": 11,
   "metadata": {},
   "outputs": [
    {
     "data": {
      "text/plain": [
       "<matplotlib.image.AxesImage at 0x7f98ac368ca0>"
      ]
     },
     "execution_count": 11,
     "metadata": {},
     "output_type": "execute_result"
    },
    {
     "data": {
      "image/png": "[encoded data removed]",
      "text/plain": [
       "<Figure size 640x480 with 1 Axes>"
      ]
     },
     "metadata": {},
     "output_type": "display_data"
    }
   ],
   "source": [
    "fig, ax = plt.subplots()\n",
    "pred = torch.prod(result, dim=-1).detach().cpu().numpy()\n",
    "ax.imshow(pred, cmap=\"hot\")"
   ]
  },
  {
   "cell_type": "code",
   "execution_count": 6,
   "metadata": {},
   "outputs": [],
   "source": [
    "def get_volume(nx, ny, center):\n",
    "    \"\"\"_summary_\n",
    "\n",
    "    Args:\n",
    "        nx (_type_): _description_\n",
    "        ny (_type_): _description_\n",
    "    \"\"\"\n",
    "    dx = 1 / np.sqrt(2)\n",
    "    dy = 1 / np.sqrt(2)\n",
    "    dz = 1 / np.sqrt(2)\n",
    "    xv = np.linspace(start=center[0]-dx/2, stop=center[0]+dx/2, num=nx)\n",
    "    yv = np.linspace(start=center[1]-dy/2, stop=center[1]+dy/2, num=ny)\n",
    "    zv = np.linspace(start=center[2]-dz/2, stop=center[2]+dz/2, num=nx)\n",
    "    X, Y, Z = np.meshgrid(xv, yv, zv)\n",
    "    return np.stack((X, Y, Z), axis=-1)"
   ]
  },
  {
   "cell_type": "code",
   "execution_count": 7,
   "metadata": {},
   "outputs": [],
   "source": [
    "path = \"./data/Z-scene/Z-scene.hdf5\"\n",
    "gt_data = tal.io.read_capture(path)\n",
    "tal.reconstruct.compensate_laser_cos_dsqr(gt_data)\n",
    "gt_H = torch.from_numpy(gt_data.H)\n",
    "center = np.array([0, 0, 0.5])\n",
    "volume_xyz = get_volume(64, 64, center=center)"
   ]
  },
  {
   "cell_type": "code",
   "execution_count": 3,
   "metadata": {},
   "outputs": [
    {
     "data": {
      "text/plain": [
       "tensor([[[-0.9688, -0.9688,  0.0000],\n",
       "         [-0.9688, -0.9062,  0.0000],\n",
       "         [-0.9688, -0.8438,  0.0000],\n",
       "         ...,\n",
       "         [-0.9688,  0.8438,  0.0000],\n",
       "         [-0.9688,  0.9062,  0.0000],\n",
       "         [-0.9688,  0.9688,  0.0000]],\n",
       "\n",
       "        [[-0.9062, -0.9688,  0.0000],\n",
       "         [-0.9062, -0.9062,  0.0000],\n",
       "         [-0.9062, -0.8438,  0.0000],\n",
       "         ...,\n",
       "         [-0.9062,  0.8438,  0.0000],\n",
       "         [-0.9062,  0.9062,  0.0000],\n",
       "         [-0.9062,  0.9688,  0.0000]],\n",
       "\n",
       "        [[-0.8438, -0.9688,  0.0000],\n",
       "         [-0.8438, -0.9062,  0.0000],\n",
       "         [-0.8438, -0.8438,  0.0000],\n",
       "         ...,\n",
       "         [-0.8438,  0.8438,  0.0000],\n",
       "         [-0.8438,  0.9062,  0.0000],\n",
       "         [-0.8438,  0.9688,  0.0000]],\n",
       "\n",
       "        ...,\n",
       "\n",
       "        [[ 0.8438, -0.9688,  0.0000],\n",
       "         [ 0.8438, -0.9062,  0.0000],\n",
       "         [ 0.8438, -0.8438,  0.0000],\n",
       "         ...,\n",
       "         [ 0.8438,  0.8438,  0.0000],\n",
       "         [ 0.8438,  0.9062,  0.0000],\n",
       "         [ 0.8438,  0.9688,  0.0000]],\n",
       "\n",
       "        [[ 0.9062, -0.9688,  0.0000],\n",
       "         [ 0.9062, -0.9062,  0.0000],\n",
       "         [ 0.9062, -0.8438,  0.0000],\n",
       "         ...,\n",
       "         [ 0.9062,  0.8438,  0.0000],\n",
       "         [ 0.9062,  0.9062,  0.0000],\n",
       "         [ 0.9062,  0.9688,  0.0000]],\n",
       "\n",
       "        [[ 0.9688, -0.9688,  0.0000],\n",
       "         [ 0.9688, -0.9062,  0.0000],\n",
       "         [ 0.9688, -0.8438,  0.0000],\n",
       "         ...,\n",
       "         [ 0.9688,  0.8438,  0.0000],\n",
       "         [ 0.9688,  0.9062,  0.0000],\n",
       "         [ 0.9688,  0.9688,  0.0000]]])"
      ]
     },
     "execution_count": 3,
     "metadata": {},
     "output_type": "execute_result"
    }
   ],
   "source": [
    "scene.relay_wall()"
   ]
  },
  {
   "cell_type": "code",
   "execution_count": 10,
   "metadata": {},
   "outputs": [
    {
     "data": {
      "text/plain": [
       "array([-0.5 ,  0.  ,  0.25], dtype=float32)"
      ]
     },
     "execution_count": 10,
     "metadata": {},
     "output_type": "execute_result"
    }
   ],
   "source": [
    "gt_data.laser_xyz"
   ]
  },
  {
   "cell_type": "code",
   "execution_count": 72,
   "metadata": {},
   "outputs": [
    {
     "name": "stdout",
     "output_type": "stream",
     "text": [
      "tal.reconstruct.filter_H: Using wavelengths from 0.1325m to 0.4081m\n",
      "tal.resources: Using 8 CPU processes and downscale 8.\n"
     ]
    },
    {
     "name": "stderr",
     "output_type": "stream",
     "text": [
      "tal.resources progress: 100%|██████████| 8/8 [00:00<00:00, 266.18it/s]            \n"
     ]
    },
    {
     "name": "stdout",
     "output_type": "stream",
     "text": [
      "tal.reconstruct.utils: Assuming that volume_xyz is X_Y_Z_3\n",
      "tal.resources: Using 8 CPU processes and downscale 8.\n"
     ]
    },
    {
     "name": "stderr",
     "output_type": "stream",
     "text": [
      "tal.resources progress: 100%|██████████| 8/8 [00:11<00:00,  1.42s/it]\n"
     ]
    }
   ],
   "source": [
    "with tal.resources(8):\n",
    "    rec = tal.reconstruct.fbp.solve(\n",
    "        data=gt_data,  volume_xyz=volume_xyz, wl_mean=0.2, wl_sigma=0.2\n",
    "    )"
   ]
  },
  {
   "cell_type": "code",
   "execution_count": 73,
   "metadata": {},
   "outputs": [
    {
     "data": {
      "text/plain": [
       "<matplotlib.image.AxesImage at 0x7f6030ac47f0>"
      ]
     },
     "execution_count": 73,
     "metadata": {},
     "output_type": "execute_result"
    },
    {
     "data": {
      "image/png": "[encoded data removed]",
      "text/plain": [
       "<Figure size 640x480 with 1 Axes>"
      ]
     },
     "metadata": {},
     "output_type": "display_data"
    }
   ],
   "source": [
    "plt.imshow(np.sum(np.abs(rec), axis=-1), cmap=\"hot\")"
   ]
  },
  {
   "cell_type": "code",
   "execution_count": null,
   "metadata": {},
   "outputs": [],
   "source": []
  }
 ],
 "metadata": {
  "kernelspec": {
   "display_name": "mitsuba3-env",
   "language": "python",
   "name": "python3"
  },
  "language_info": {
   "codemirror_mode": {
    "name": "ipython",
    "version": 3
   },
   "file_extension": ".py",
   "mimetype": "text/x-python",
   "name": "python",
   "nbconvert_exporter": "python",
   "pygments_lexer": "ipython3",
   "version": "3.8.13"
  }
 },
 "nbformat": 4,
 "nbformat_minor": 2
}
